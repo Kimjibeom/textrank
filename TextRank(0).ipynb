{
  "nbformat": 4,
  "nbformat_minor": 0,
  "metadata": {
    "colab": {
      "name": "TextRank.ipynb",
      "provenance": [],
      "authorship_tag": "ABX9TyMqF5smAQUp/CBB9VW0Vw6X",
      "include_colab_link": true
    },
    "kernelspec": {
      "display_name": "Python 3",
      "name": "python3"
    },
    "language_info": {
      "name": "python"
    }
  },
  "cells": [
    {
      "cell_type": "markdown",
      "metadata": {
        "id": "view-in-github",
        "colab_type": "text"
      },
      "source": [
        "<a href=\"https://colab.research.google.com/github/Kimjibeom/textrank/blob/main/TextRank(0).ipynb\" target=\"_parent\"><img src=\"https://colab.research.google.com/assets/colab-badge.svg\" alt=\"Open In Colab\"/></a>"
      ]
    },
    {
      "cell_type": "markdown",
      "metadata": {
        "id": "jr0ifHJtqze0"
      },
      "source": [
        "# Google Drive 마운트 하기"
      ]
    },
    {
      "cell_type": "code",
      "metadata": {
        "colab": {
          "base_uri": "https://localhost:8080/"
        },
        "id": "CvowhwCYq2w3",
        "outputId": "0df9fa63-5193-4434-f069-065917bbb326"
      },
      "source": [
        "from google.colab import drive\n",
        "drive.mount('/content/drive')"
      ],
      "execution_count": 1,
      "outputs": [
        {
          "output_type": "stream",
          "text": [
            "Drive already mounted at /content/drive; to attempt to forcibly remount, call drive.mount(\"/content/drive\", force_remount=True).\n"
          ],
          "name": "stdout"
        }
      ]
    },
    {
      "cell_type": "code",
      "metadata": {
        "id": "p1PC9Eo4rgEp"
      },
      "source": [
        "#경로 설정\n",
        "import os\n",
        "os.chdir('/content/drive/My Drive/Colab Notebooks')"
      ],
      "execution_count": 2,
      "outputs": []
    },
    {
      "cell_type": "markdown",
      "metadata": {
        "id": "7kqZfkum0PnE"
      },
      "source": [
        "# TextRank 사용하기"
      ]
    },
    {
      "cell_type": "code",
      "metadata": {
        "colab": {
          "base_uri": "https://localhost:8080/"
        },
        "id": "UemJhKLKzz6E",
        "outputId": "9b1ca89f-38ae-4ace-f71d-80e6fbb69991"
      },
      "source": [
        "!pip install git+https://github.com/Kimjibeom/textrank.git"
      ],
      "execution_count": 3,
      "outputs": [
        {
          "output_type": "stream",
          "text": [
            "Collecting git+https://github.com/Kimjibeom/textrank.git\n",
            "  Cloning https://github.com/Kimjibeom/textrank.git to /tmp/pip-req-build-5y60489z\n",
            "  Running command git clone -q https://github.com/Kimjibeom/textrank.git /tmp/pip-req-build-5y60489z\n"
          ],
          "name": "stdout"
        }
      ]
    },
    {
      "cell_type": "code",
      "metadata": {
        "id": "8A0cKJ4l0O_V"
      },
      "source": [
        "from konlpy.tag import Komoran\n",
        "from textrank import KeysentenceSummarizer\n",
        "import textrank\n",
        "\n",
        "komoran = Komoran()\n",
        "def komoran_tokenizer(sent):\n",
        "    words = komoran.pos(sent, join=True)\n",
        "    words = [w for w in words if ('/NN'in w)]   # 명사만 추출\n",
        "    return words\n",
        "\n",
        "summarizer = KeysentenceSummarizer(\n",
        "    tokenize = komoran_tokenizer,\n",
        "    min_sim = 0.3,\n",
        "    verbose = False\n",
        ")"
      ],
      "execution_count": 4,
      "outputs": []
    },
    {
      "cell_type": "markdown",
      "metadata": {
        "id": "POS73K9HnCh2"
      },
      "source": [
        "# 데이터 불러오기"
      ]
    },
    {
      "cell_type": "code",
      "metadata": {
        "colab": {
          "base_uri": "https://localhost:8080/"
        },
        "id": "JzI0xZQF1pWf",
        "outputId": "34908343-8f98-4f4f-bd60-27153f3ed95a"
      },
      "source": [
        "# Komoran tokenized\n",
        "with open('/content/SF판타지.csv', encoding='cp949') as f:\n",
        "    sents = [sent.strip() for sent in f]\n",
        "\n",
        "print(len(sents))"
      ],
      "execution_count": 5,
      "outputs": [
        {
          "output_type": "stream",
          "text": [
            "1567\n"
          ],
          "name": "stdout"
        }
      ]
    },
    {
      "cell_type": "code",
      "metadata": {
        "colab": {
          "base_uri": "https://localhost:8080/"
        },
        "id": "HfS4Gpsi5cGD",
        "outputId": "35620d7d-d0cc-4bc6-a4ef-1a806eb51836"
      },
      "source": [
        "from textrank import KeywordSummarizer\n",
        "\n",
        "summarizer = KeywordSummarizer(tokenize=komoran_tokenizer\n",
        "                               , min_count=0.3,\n",
        "                               min_cooccurrence=2,\n",
        "                               verbose = False\n",
        "                               )\n",
        "summarizer.summarize(sents, topk=20)"
      ],
      "execution_count": 11,
      "outputs": [
        {
          "output_type": "execute_result",
          "data": {
            "text/plain": [
              "[('것/NNB', 60.35347019360558),\n",
              " ('작가/NNG', 57.35554466575327),\n",
              " ('년/NNB', 51.849997645481416),\n",
              " ('수/NNB', 49.07370236613237),\n",
              " ('세계/NNG', 48.32373642905203),\n",
              " ('작품/NNG', 40.759390010853416),\n",
              " ('이야기/NNG', 39.10287052107582),\n",
              " ('소설/NNG', 37.65974579281787),\n",
              " ('시작/NNG', 35.69640494854159),\n",
              " ('출간/NNG', 34.01070434765084),\n",
              " ('독자/NNG', 28.74197424481424),\n",
              " ('인간/NNG', 26.67876841827334),\n",
              " ('사람/NNG', 26.21362093403228),\n",
              " ('등/NNB', 25.82280533054618),\n",
              " ('속/NNG', 25.772561907717353),\n",
              " ('자신/NNG', 25.76356255428986),\n",
              " ('시리즈/NNP', 24.72890795276728),\n",
              " ('책/NNG', 23.796057328116156),\n",
              " ('번/NNB', 22.686600981877877),\n",
              " ('미스터리/NNP', 20.12505090845984)]"
            ]
          },
          "metadata": {},
          "execution_count": 11
        }
      ]
    },
    {
      "cell_type": "code",
      "metadata": {
        "colab": {
          "base_uri": "https://localhost:8080/"
        },
        "id": "TyFEfEVMgstR",
        "outputId": "25910eb4-896f-42ca-9f0a-ed73eb15a17a"
      },
      "source": [
        "summarizer.R # 중요도 출력"
      ],
      "execution_count": 7,
      "outputs": [
        {
          "output_type": "execute_result",
          "data": {
            "text/plain": [
              "array([60.35347019, 35.69640495, 49.07370237, ...,  0.39786889,\n",
              "        0.39786889,  0.39786889])"
            ]
          },
          "metadata": {},
          "execution_count": 7
        }
      ]
    }
  ]
}